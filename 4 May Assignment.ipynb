{
 "cells": [
  {
   "cell_type": "code",
   "execution_count": null,
   "id": "4b1f5f50-c99e-4ece-bb3f-8382ce8b935c",
   "metadata": {},
   "outputs": [],
   "source": [
    "Q1. What is a time series, and what are some common applications of time series analysis?"
   ]
  },
  {
   "cell_type": "markdown",
   "id": "cebdc562-a190-4b71-b7eb-6fa3010b42b4",
   "metadata": {},
   "source": [
    "ANS -"
   ]
  },
  {
   "cell_type": "code",
   "execution_count": null,
   "id": "d9b925e6-02e4-4b5f-86bc-1da4825cb86a",
   "metadata": {},
   "outputs": [],
   "source": [
    "A time series is a sequence of data points that are ordered by time.\n",
    "Time series analysis is used to analyze time series data and extract meaningful statistics and characteristics of the data.\n",
    "Some common applications of time series analysis include economic forecasting, sales forecasting, inventory studies, budgetary analysis,\n",
    "census analysis, yield projection, and stock market analysis."
   ]
  },
  {
   "cell_type": "code",
   "execution_count": null,
   "id": "4558622c-395e-49e1-98e6-77323ad6011a",
   "metadata": {},
   "outputs": [],
   "source": []
  },
  {
   "cell_type": "code",
   "execution_count": null,
   "id": "26c05950-7a69-48d5-a4ca-94b4df94c243",
   "metadata": {},
   "outputs": [],
   "source": [
    "Q2. What are some common time series patterns, and how can they be identified and interpreted?"
   ]
  },
  {
   "cell_type": "markdown",
   "id": "93328d7f-14bf-456b-86c4-a2f5cdd6b1c6",
   "metadata": {},
   "source": [
    "ANS -"
   ]
  },
  {
   "cell_type": "code",
   "execution_count": null,
   "id": "5b7c1e0d-ce12-4e0c-b42a-bc7e60784793",
   "metadata": {},
   "outputs": [],
   "source": [
    "Some common time series patterns include horizontal pattern, trend pattern, seasonal pattern, trend and seasonal pattern, and\n",
    "cyclical pattern.\n",
    "These patterns can be identified and interpreted by analyzing the data using statistical methods such as autocorrelation function (ACF) \n",
    "and partial autocorrelation function (PACF) plots.\n",
    "A horizontal pattern exists when the data fluctuate around a constant mean. \n",
    "A trend pattern exists when the data show gradual shifts or movements to relatively higher or lower values over a longer period of time.\n",
    "A seasonal pattern exists when the data exhibit regular fluctuations that are related to calendar time.\n",
    "A cyclical pattern exists when the data exhibit fluctuations that are not related to calendar time."
   ]
  },
  {
   "cell_type": "code",
   "execution_count": null,
   "id": "51967931-14b5-4043-a296-6e1d5404a071",
   "metadata": {},
   "outputs": [],
   "source": []
  },
  {
   "cell_type": "code",
   "execution_count": null,
   "id": "e5bd76c6-f03c-46cd-b15b-e8711b4dc34a",
   "metadata": {},
   "outputs": [],
   "source": [
    "Q3. How can time series data be preprocessed before applying analysis techniques?"
   ]
  },
  {
   "cell_type": "markdown",
   "id": "b3e2dd3e-5cf6-449a-ab79-cf3414efe012",
   "metadata": {},
   "source": [
    "ANS -"
   ]
  },
  {
   "cell_type": "code",
   "execution_count": null,
   "id": "c022aacb-818f-4347-af91-8e79941ee3c8",
   "metadata": {},
   "outputs": [],
   "source": [
    "Before applying analysis techniques, time series data can be preprocessed by estimating missing values, removing outliers, and accounting \n",
    "for seasonal variations. \n",
    "Preprocessing is a necessary component in time series analysis.\n",
    "Visual inspection and simple summaries are always very useful; but for the size and complexity of real-world time series, manual inspection \n",
    "is not practical.\n",
    "There are several techniques for preprocessing time series data such as smoothing, differencing, and decomposition.\n",
    "Smoothing is used to remove noise from the data by averaging out short-term fluctuations.\n",
    "Differencing is used to remove trends and seasonality from the data by subtracting the previous value from the current value.\n",
    "Decomposition is used to separate the time series into its trend, seasonal, and residual components."
   ]
  },
  {
   "cell_type": "code",
   "execution_count": null,
   "id": "6059403c-88c9-4f97-90a3-29f256c49c86",
   "metadata": {},
   "outputs": [],
   "source": []
  },
  {
   "cell_type": "code",
   "execution_count": null,
   "id": "979605f2-39b7-408c-8315-2228a76e971f",
   "metadata": {},
   "outputs": [],
   "source": [
    "Q4. How can time series forecasting be used in business decision-making, and what are some common\n",
    "challenges and limitations?"
   ]
  },
  {
   "cell_type": "markdown",
   "id": "eb04536a-dd67-4621-8fc6-2899409c63a6",
   "metadata": {},
   "source": [
    "ANS -"
   ]
  },
  {
   "cell_type": "code",
   "execution_count": null,
   "id": "815fbf76-247e-4b09-b775-0d9af548b7df",
   "metadata": {},
   "outputs": [],
   "source": [
    "Time series forecasting can be used in business decision-making to predict future trends and patterns in sales, demand, \n",
    "and other business metrics. This can help businesses make informed decisions about inventory management, production planning,\n",
    "and resource allocation. However, there are some common challenges and limitations associated with time series forecasting.\n",
    "One of the main challenges is that time series data can be complex and difficult to analyze. \n",
    "Another challenge is that time series forecasting models may not always be accurate due to the presence of outliers or unexpected events. \n",
    "Additionally, time series forecasting models may not be able to capture long-term trends or changes in the underlying data generating process."
   ]
  },
  {
   "cell_type": "code",
   "execution_count": null,
   "id": "7d31b919-e01d-43a6-ac5c-642216839c81",
   "metadata": {},
   "outputs": [],
   "source": []
  },
  {
   "cell_type": "code",
   "execution_count": null,
   "id": "60edc7d0-3c57-45eb-911c-4a14e7d0a632",
   "metadata": {},
   "outputs": [],
   "source": [
    "Q5. What is ARIMA modelling, and how can it be used to forecast time series data?"
   ]
  },
  {
   "cell_type": "markdown",
   "id": "9ffa9dff-e3c7-47a7-9d77-93ce944f95a9",
   "metadata": {},
   "source": [
    "ANS -"
   ]
  },
  {
   "cell_type": "code",
   "execution_count": null,
   "id": "2c0cc688-8b28-42d5-ad56-337685b0d90a",
   "metadata": {},
   "outputs": [],
   "source": [
    "ARIMA stands for AutoRegressive Integrated Moving Average. It is a class of statistical models for analyzing and forecasting time series data.\n",
    "ARIMA models explicitly cater to a suite of standard structures in time series data and provide a simple yet powerful method for making \n",
    "skillful time series forecasts. ARIMA models are used to forecast future outcomes based on a historical time series.\n",
    "Using ARIMA models, you can forecast a time series using the series past values.\n",
    "ARIMA models are widely used in finance, economics, and other fields for forecasting stock prices, sales volumes, and other business metrics."
   ]
  },
  {
   "cell_type": "code",
   "execution_count": null,
   "id": "7caeb5b3-7eb2-4f60-a5e3-10c175e9240e",
   "metadata": {},
   "outputs": [],
   "source": []
  },
  {
   "cell_type": "code",
   "execution_count": null,
   "id": "f58342de-6301-4973-9ebe-dbfa9b1fa0a1",
   "metadata": {},
   "outputs": [],
   "source": [
    "Q6. How do Autocorrelation Function (ACF) and Partial Autocorrelation Function (PACF) plots help in\n",
    "identifying the order of ARIMA models?"
   ]
  },
  {
   "cell_type": "markdown",
   "id": "0566cd2d-3291-4780-864e-f0c68b36f933",
   "metadata": {},
   "source": [
    "ANS -"
   ]
  },
  {
   "cell_type": "code",
   "execution_count": null,
   "id": "cf4321e9-42dd-4b46-8788-273e645193f0",
   "metadata": {},
   "outputs": [],
   "source": [
    "The Autocorrelation Function (ACF) and Partial Autocorrelation Function (PACF) plots are used to identify the order of ARIMA models.\n",
    "The ACF plot shows the correlation between a time series and lags of itself. \n",
    "The PACF plot shows the correlation between a time series and lags of itself after removing the effects of intervening observations.\n",
    "The ACF plot is used to identify the order of the Moving Average (MA) term in an ARIMA model.\n",
    "The PACF plot is used to identify the order of the AutoRegressive (AR) term in an ARIMA model."
   ]
  },
  {
   "cell_type": "code",
   "execution_count": null,
   "id": "50331fc7-bb7c-447e-9eb0-8ef66669612a",
   "metadata": {},
   "outputs": [],
   "source": []
  },
  {
   "cell_type": "code",
   "execution_count": null,
   "id": "bbb195a2-3184-4a1a-b4d4-f4eb5f9513cc",
   "metadata": {},
   "outputs": [],
   "source": [
    "Q7. What are the assumptions of ARIMA models, and how can they be tested for in practice?"
   ]
  },
  {
   "cell_type": "markdown",
   "id": "d628db79-415c-4db8-8df2-a724aa42d78f",
   "metadata": {},
   "source": [
    "ANS -"
   ]
  },
  {
   "cell_type": "code",
   "execution_count": null,
   "id": "b17bfa3c-b5f0-4b5d-9a24-598de29d986e",
   "metadata": {},
   "outputs": [],
   "source": [
    "The assumptions of ARIMA models are that the residuals are normally distributed with zero mean and constant variance. \n",
    "The residuals should also be uncorrelated over time. These assumptions can be tested for in practice using residual plots, \n",
    "which show the difference between the observed values and the predicted values of the model. \n",
    "If the residuals are normally distributed with zero mean and constant variance, then the residual plot should show no pattern. \n",
    "If the residuals are uncorrelated over time, then the residual plot should show no trend."
   ]
  },
  {
   "cell_type": "code",
   "execution_count": null,
   "id": "56d77e9e-a1c6-4448-b4c2-2691d2718e3e",
   "metadata": {},
   "outputs": [],
   "source": []
  },
  {
   "cell_type": "code",
   "execution_count": null,
   "id": "86491795-2a8b-4657-8a3a-f909b6600db3",
   "metadata": {},
   "outputs": [],
   "source": [
    "Q8. Suppose you have monthly sales data for a retail store for the past three years. Which type of time\n",
    "series model would you recommend for forecasting future sales, and why?"
   ]
  },
  {
   "cell_type": "markdown",
   "id": "af837645-48d7-4d6e-94b3-7e70ca1e70ae",
   "metadata": {},
   "source": [
    "ANS -"
   ]
  },
  {
   "cell_type": "code",
   "execution_count": null,
   "id": "3c77593e-385f-4d36-90be-792973c56f1b",
   "metadata": {},
   "outputs": [],
   "source": [
    "For monthly sales data for the past three years, I would recommend using an ARIMA model for forecasting future sales.\n",
    "ARIMA models are used for time series data that is stationary, meaning that the statistical properties of the data do not change over time. \n",
    "Monthly sales data is typically stationary because it is affected by seasonal factors such as holidays and weather patterns.\n",
    "ARIMA models are also useful for forecasting future values based on past values."
   ]
  },
  {
   "cell_type": "code",
   "execution_count": null,
   "id": "4cbd6202-2ba8-4d22-b940-3d13f020ca1b",
   "metadata": {},
   "outputs": [],
   "source": []
  },
  {
   "cell_type": "code",
   "execution_count": null,
   "id": "d0cb1ccf-bb01-45cf-a342-e058e12d4f91",
   "metadata": {},
   "outputs": [],
   "source": [
    "Q9. What are some of the limitations of time series analysis? Provide an example of a scenario where the\n",
    "limitations of time series analysis may be particularly relevant."
   ]
  },
  {
   "cell_type": "markdown",
   "id": "5247880b-e007-4117-925a-f1b975970d33",
   "metadata": {},
   "source": [
    "ANS -"
   ]
  },
  {
   "cell_type": "code",
   "execution_count": null,
   "id": "a8d1c164-aa9e-4aac-82ce-239c9e90f62d",
   "metadata": {},
   "outputs": [],
   "source": [
    "Time series analysis has several limitations, including:\n",
    "\n",
    "Missing values are not supported by TSA.\n",
    "The data points must be linear in their relationship.\n",
    "Data transformations are mandatory, so they are a little expensive.\n",
    "Time series models typically have a single historical sample available, and that’s it.\n",
    "Time series analysis has a limited application scope.\n",
    "Dealing with outliers and noise can be challenging\n",
    "\n",
    "An example of a scenario where the limitations of time series analysis may be particularly relevant is when the data is not uniform over time.\n",
    "The lack of uniformity of the observations may be caused by missing or corrupt values.\n",
    "\n",
    "Another example is when a time series is dominated by the trend or irregular components, it is nearly impossible to identify and remove what\n",
    "little seasonality is present. Hence seasonally adjusting a non-seasonal series is impractical and will often introduce an artificial \n",
    "seasonal element."
   ]
  },
  {
   "cell_type": "code",
   "execution_count": null,
   "id": "acb6d660-7245-49ec-9305-a50f40c929cc",
   "metadata": {},
   "outputs": [],
   "source": []
  },
  {
   "cell_type": "code",
   "execution_count": null,
   "id": "3d1eab22-2953-46da-9663-77c6ab38db2a",
   "metadata": {},
   "outputs": [],
   "source": [
    "Q10. Explain the difference between a stationary and non-stationary time series. How does the stationarity\n",
    "of a time series affect the choice of forecasting model?"
   ]
  },
  {
   "cell_type": "markdown",
   "id": "1d859a86-866f-4d8b-96a3-93352aaa9e71",
   "metadata": {},
   "source": [
    "ANS -"
   ]
  },
  {
   "cell_type": "code",
   "execution_count": null,
   "id": "b0b99301-b587-4c28-bc65-cc5ef5c76185",
   "metadata": {},
   "outputs": [],
   "source": [
    "A stationary time series is one whose statistical properties such as mean, variance, autocorrelation, etc.\n",
    "remain constant over time. A non-stationary time series is one whose statistical properties change over time.\n",
    "\n",
    "The stationarity of a time series affects the choice of forecasting model because most forecasting methods assume that the time series \n",
    "is stationary. If the time series is non-stationary, it must be transformed to become stationary before a forecasting model can be applied.\n",
    "\n",
    "For example, if a non-stationary time series has a trend or seasonality component, it can be made stationary by differencing or seasonal \n",
    "differencing respectively. Once the time series is stationary, an appropriate forecasting model such as ARIMA can be applied."
   ]
  }
 ],
 "metadata": {
  "kernelspec": {
   "display_name": "Python 3 (ipykernel)",
   "language": "python",
   "name": "python3"
  },
  "language_info": {
   "codemirror_mode": {
    "name": "ipython",
    "version": 3
   },
   "file_extension": ".py",
   "mimetype": "text/x-python",
   "name": "python",
   "nbconvert_exporter": "python",
   "pygments_lexer": "ipython3",
   "version": "3.10.8"
  }
 },
 "nbformat": 4,
 "nbformat_minor": 5
}
